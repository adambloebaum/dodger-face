{
 "cells": [
  {
   "cell_type": "code",
   "execution_count": 7,
   "metadata": {},
   "outputs": [],
   "source": [
    "import cv2\n",
    "import os"
   ]
  },
  {
   "cell_type": "code",
   "execution_count": 8,
   "metadata": {},
   "outputs": [],
   "source": [
    "def extract_frames(video_path, frame_skip=5):\n",
    "    athlete_id = os.path.basename(video_path).split('_')[0]\n",
    "    cap = cv2.VideoCapture(video_path)\n",
    "\n",
    "    total_frames = int(cap.get(cv2.CAP_PROP_FRAME_COUNT))\n",
    "    start_frame = int(total_frames * 0.25)  # Start at 25% of the total frames\n",
    "    end_frame = int(total_frames * 0.75)   # End at 75% of the total frames\n",
    "    frames_to_process = (end_frame - start_frame) // frame_skip\n",
    "\n",
    "    print(f\"Processing video: {video_path}\")\n",
    "    print(f\"Athlete ID: {athlete_id}\")\n",
    "    print(f\"Processing frames from {start_frame} to {end_frame}\")\n",
    "    print(f\"Number of frames to be processed: {frames_to_process}\")\n",
    "\n",
    "    frames = []\n",
    "    frame_count = 0\n",
    "\n",
    "    while frame_count <= end_frame:\n",
    "        ret, frame = cap.read()\n",
    "        if not ret:\n",
    "            break\n",
    "\n",
    "        if start_frame <= frame_count <= end_frame and frame_count % frame_skip == 0:\n",
    "            frames.append((frame, athlete_id, frame_count))\n",
    "\n",
    "        frame_count += 1\n",
    "\n",
    "    cap.release()\n",
    "    return frames"
   ]
  },
  {
   "cell_type": "code",
   "execution_count": null,
   "metadata": {},
   "outputs": [],
   "source": []
  },
  {
   "cell_type": "code",
   "execution_count": null,
   "metadata": {},
   "outputs": [],
   "source": []
  },
  {
   "cell_type": "code",
   "execution_count": null,
   "metadata": {},
   "outputs": [],
   "source": []
  },
  {
   "cell_type": "code",
   "execution_count": 9,
   "metadata": {},
   "outputs": [],
   "source": [
    "def get_next_file_index(folder_path):\n",
    "    existing_files = [f for f in os.listdir(folder_path) if os.path.isfile(os.path.join(folder_path, f))]\n",
    "    if not existing_files:\n",
    "        return 1\n",
    "\n",
    "    # Extract indices from file names and find the maximum\n",
    "    indices = [int(f.split('_')[-1].split('.')[0]) for f in existing_files]\n",
    "    return max(indices) + 1  # Continue from the next index"
   ]
  },
  {
   "cell_type": "code",
   "execution_count": 12,
   "metadata": {},
   "outputs": [
    {
     "name": "stdout",
     "output_type": "stream",
     "text": [
      "Processing video: C:\\Users\\adam.bloebaum\\.vscode\\driveline\\cv\\data\\videos\\048637_Bloebaum_A.mp4\n",
      "Athlete ID: 048637\n",
      "Processing frames from 180 to 540\n",
      "Number of frames to be processed (every 5th frame): 72\n",
      "Processing complete for: 048637_Bloebaum_A.mp4\n"
     ]
    }
   ],
   "source": [
    "# Example usage\n",
    "video_directory = r'C:\\Users\\adam.bloebaum\\.vscode\\driveline\\cv\\data\\videos'\n",
    "output_directory = r'C:\\Users\\adam.bloebaum\\.vscode\\driveline\\cv\\data\\images'\n",
    "os.makedirs(output_directory, exist_ok=True)\n",
    "\n",
    "for video_file in os.listdir(video_directory):\n",
    "    if video_file.endswith('.mp4'):\n",
    "        video_path = os.path.join(video_directory, video_file)\n",
    "        frames_with_id = extract_frames(video_path)\n",
    "\n",
    "        for frame, athlete_id, _ in frames_with_id:\n",
    "            athlete_folder = os.path.join(output_directory, athlete_id)\n",
    "            os.makedirs(athlete_folder, exist_ok=True)\n",
    "\n",
    "            next_index = get_next_file_index(athlete_folder)\n",
    "            frame_file = os.path.join(athlete_folder, f'{athlete_id}_{next_index:03d}.png')\n",
    "            cv2.imwrite(frame_file, frame)\n",
    "            next_index += 1\n",
    "    print(f\"Processing complete for: {video_file}\")"
   ]
  },
  {
   "cell_type": "code",
   "execution_count": null,
   "metadata": {},
   "outputs": [],
   "source": []
  }
 ],
 "metadata": {
  "kernelspec": {
   "display_name": "driveline",
   "language": "python",
   "name": "python3"
  },
  "language_info": {
   "codemirror_mode": {
    "name": "ipython",
    "version": 3
   },
   "file_extension": ".py",
   "mimetype": "text/x-python",
   "name": "python",
   "nbconvert_exporter": "python",
   "pygments_lexer": "ipython3",
   "version": "3.11.5"
  }
 },
 "nbformat": 4,
 "nbformat_minor": 2
}
